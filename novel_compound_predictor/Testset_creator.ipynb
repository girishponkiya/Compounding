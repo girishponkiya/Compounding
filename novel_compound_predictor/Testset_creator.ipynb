{
 "cells": [
  {
   "cell_type": "code",
   "execution_count": 3,
   "metadata": {},
   "outputs": [],
   "source": [
    "import numpy as np\n",
    "import pandas as pd\n",
    "import pickle as pkl\n",
    "pd.set_option('display.float_format', lambda x: '%.3f' % x)\n",
    "pd.options.mode.chained_assignment = None\n",
    "import random\n",
    "from multiprocessing import Pool\n",
    "seed_list=list(range(1,1000,100))\n",
    "import numba"
   ]
  },
  {
   "cell_type": "code",
   "execution_count": 4,
   "metadata": {},
   "outputs": [],
   "source": [
    "@numba.jit(nopython=True)\n",
    "def year_binner(year,val=10):\n",
    "    return year - year%val\n",
    "\n",
    "\n",
    "@numba.jit(nopython=True)\n",
    "def decremover(dc):\n",
    "\n",
    "    new_constituents=[]\n",
    "    for constituent,decades in dc.items():\n",
    "        if len(decades)==1:\n",
    "            if 2000 in decades:\n",
    "                new_constituents.append(constituent)\n",
    "    return(new_constituents)"
   ]
  },
  {
   "cell_type": "code",
   "execution_count": 32,
   "metadata": {},
   "outputs": [],
   "source": [
    "modifiers_list=pkl.load( open(\"modifier_list_reduced.pkl\",'rb'))\n",
    "heads_list=pkl.load( open(\"head_list_reduced.pkl\",'rb'))"
   ]
  },
  {
   "cell_type": "code",
   "execution_count": 8,
   "metadata": {},
   "outputs": [
    {
     "name": "stdout",
     "output_type": "stream",
     "text": [
      "<class 'pandas.core.frame.DataFrame'>\n",
      "Int64Index: 2713711 entries, 12 to 8892563\n",
      "Data columns (total 4 columns):\n",
      "modifier    object\n",
      "head        object\n",
      "time        int64\n",
      "count       float64\n",
      "dtypes: float64(1), int64(1), object(2)\n",
      "memory usage: 103.5+ MB\n"
     ]
    },
    {
     "data": {
      "text/html": [
       "<div>\n",
       "<style scoped>\n",
       "    .dataframe tbody tr th:only-of-type {\n",
       "        vertical-align: middle;\n",
       "    }\n",
       "\n",
       "    .dataframe tbody tr th {\n",
       "        vertical-align: top;\n",
       "    }\n",
       "\n",
       "    .dataframe thead th {\n",
       "        text-align: right;\n",
       "    }\n",
       "</style>\n",
       "<table border=\"1\" class=\"dataframe\">\n",
       "  <thead>\n",
       "    <tr style=\"text-align: right;\">\n",
       "      <th></th>\n",
       "      <th>modifier</th>\n",
       "      <th>head</th>\n",
       "      <th>time</th>\n",
       "      <th>count</th>\n",
       "    </tr>\n",
       "  </thead>\n",
       "  <tbody>\n",
       "    <tr>\n",
       "      <th>12</th>\n",
       "      <td>a_noun</td>\n",
       "      <td>addison_noun</td>\n",
       "      <td>1970</td>\n",
       "      <td>96.000</td>\n",
       "    </tr>\n",
       "    <tr>\n",
       "      <th>13</th>\n",
       "      <td>a_noun</td>\n",
       "      <td>addison_noun</td>\n",
       "      <td>1980</td>\n",
       "      <td>206.000</td>\n",
       "    </tr>\n",
       "    <tr>\n",
       "      <th>14</th>\n",
       "      <td>a_noun</td>\n",
       "      <td>addison_noun</td>\n",
       "      <td>1990</td>\n",
       "      <td>196.000</td>\n",
       "    </tr>\n",
       "    <tr>\n",
       "      <th>15</th>\n",
       "      <td>a_noun</td>\n",
       "      <td>addison_noun</td>\n",
       "      <td>2000</td>\n",
       "      <td>222.000</td>\n",
       "    </tr>\n",
       "    <tr>\n",
       "      <th>20</th>\n",
       "      <td>a_noun</td>\n",
       "      <td>anti_noun</td>\n",
       "      <td>1990</td>\n",
       "      <td>67.000</td>\n",
       "    </tr>\n",
       "  </tbody>\n",
       "</table>\n",
       "</div>"
      ],
      "text/plain": [
       "   modifier          head  time   count\n",
       "12   a_noun  addison_noun  1970  96.000\n",
       "13   a_noun  addison_noun  1980 206.000\n",
       "14   a_noun  addison_noun  1990 196.000\n",
       "15   a_noun  addison_noun  2000 222.000\n",
       "20   a_noun     anti_noun  1990  67.000"
      ]
     },
     "execution_count": 8,
     "metadata": {},
     "output_type": "execute_result"
    }
   ],
   "source": [
    "compounds=pd.read_pickle(\"/data/dharp/compounding/datasets/compounds.pkl\")\n",
    "compounds.reset_index(inplace=True)\n",
    "compounds.year=compounds.year.astype(\"int32\")\n",
    "compounds=compounds.query('1800 <= year <= 2010').copy()\n",
    "compounds['time']=year_binner(compounds['year'].values,10)\n",
    "#compounds = dd.from_pandas(compounds, npartitions=100)\n",
    "compounds=compounds.groupby(['modifier','head','time'])['count'].sum().to_frame()\n",
    "compounds.reset_index(inplace=True)\n",
    "compounds=compounds.loc[compounds.groupby(['modifier','head','time'])['count'].transform('sum').gt(50)]\n",
    "compounds=compounds.loc[compounds['modifier'].isin(modifiers_list) & compounds['head'].isin(heads_list)]\n",
    "compounds.info()\n",
    "compounds.head()"
   ]
  },
  {
   "cell_type": "code",
   "execution_count": 44,
   "metadata": {},
   "outputs": [
    {
     "data": {
      "text/plain": [
       "42337"
      ]
     },
     "execution_count": 44,
     "metadata": {},
     "output_type": "execute_result"
    }
   ],
   "source": [
    "maske_list=novel_compounds.loc[novel_compounds.time==1990]\n",
    "maske_list=list(zip(maske_list['modifier'].tolist(),maske_list['head'].tolist()))\n",
    "len(maske_list)"
   ]
  },
  {
   "cell_type": "code",
   "execution_count": 29,
   "metadata": {},
   "outputs": [
    {
     "data": {
      "text/plain": [
       "[('a_noun', 'bachelor_noun'),\n",
       " ('a_noun', 'bug_noun'),\n",
       " ('a_noun', 'christian_noun'),\n",
       " ('a_noun', 'corner_noun'),\n",
       " ('a_noun', 'cultural_noun'),\n",
       " ('a_noun', 'dog_noun'),\n",
       " ('a_noun', 'family_noun'),\n",
       " ('a_noun', 'force_noun'),\n",
       " ('a_noun', 'go_noun'),\n",
       " ('a_noun', 'gospel_noun')]"
      ]
     },
     "execution_count": 29,
     "metadata": {},
     "output_type": "execute_result"
    }
   ],
   "source": [
    "novel_compounds=compounds.loc[compounds.groupby(['modifier','head'])['time'].transform('count').eq(1)]\n",
    "novel_compounds_2000=novel_compounds.loc[novel_compounds.time==2000]\n",
    "novel_compounds_2000_list=list(zip(novel_compounds_2000['modifier'].tolist(),novel_compounds_2000['head'].tolist()))\n",
    "novel_compounds_2000_list[:10]"
   ]
  },
  {
   "cell_type": "code",
   "execution_count": 59,
   "metadata": {},
   "outputs": [
    {
     "data": {
      "text/plain": [
       "[('ancient_noun', 'wine_noun'),\n",
       " ('counterpart_noun', 'right_noun'),\n",
       " ('pole_noun', 'shift_noun'),\n",
       " ('energy_noun', 'intensity_noun'),\n",
       " ('gardening_noun', 'tool_noun'),\n",
       " ('newton_noun', 'iteration_noun'),\n",
       " ('charlie_noun', 'patton_noun'),\n",
       " ('visualization_noun', 'system_noun'),\n",
       " ('bonu_noun', 'point_noun'),\n",
       " ('book_noun', 'london_noun')]"
      ]
     },
     "execution_count": 59,
     "metadata": {},
     "output_type": "execute_result"
    }
   ],
   "source": [
    "novel_compounds_new=compounds.query('1990 <= time <= 2010').copy()\n",
    "novel_compounds_1990=novel_compounds_new.loc[novel_compounds_new.groupby(['modifier','head'])['time'].transform('count').eq(2)]\n",
    "novel_compounds_1990_list=list(zip(novel_compounds_1990['modifier'].tolist(),novel_compounds_1990['head'].tolist()))\n",
    "novel_compounds_1990_list=list(set(novel_compounds_1990_list))\n",
    "novel_compounds_1990_list[:10]"
   ]
  },
  {
   "cell_type": "code",
   "execution_count": 60,
   "metadata": {},
   "outputs": [
    {
     "data": {
      "text/plain": [
       "413196"
      ]
     },
     "execution_count": 60,
     "metadata": {},
     "output_type": "execute_result"
    }
   ],
   "source": [
    "len(novel_compounds_1990_list)"
   ]
  },
  {
   "cell_type": "code",
   "execution_count": 61,
   "metadata": {},
   "outputs": [
    {
     "data": {
      "text/plain": [
       "302624"
      ]
     },
     "execution_count": 61,
     "metadata": {},
     "output_type": "execute_result"
    }
   ],
   "source": [
    "len(set(total_compounds_list).intersection(novel_compounds_1990_list))"
   ]
  },
  {
   "cell_type": "code",
   "execution_count": 58,
   "metadata": {},
   "outputs": [
    {
     "data": {
      "text/html": [
       "<div>\n",
       "<style scoped>\n",
       "    .dataframe tbody tr th:only-of-type {\n",
       "        vertical-align: middle;\n",
       "    }\n",
       "\n",
       "    .dataframe tbody tr th {\n",
       "        vertical-align: top;\n",
       "    }\n",
       "\n",
       "    .dataframe thead th {\n",
       "        text-align: right;\n",
       "    }\n",
       "</style>\n",
       "<table border=\"1\" class=\"dataframe\">\n",
       "  <thead>\n",
       "    <tr style=\"text-align: right;\">\n",
       "      <th></th>\n",
       "      <th>modifier</th>\n",
       "      <th>head</th>\n",
       "      <th>time</th>\n",
       "      <th>count</th>\n",
       "    </tr>\n",
       "  </thead>\n",
       "  <tbody>\n",
       "    <tr>\n",
       "      <th>4986595</th>\n",
       "      <td>mehran_noun</td>\n",
       "      <td>university_noun</td>\n",
       "      <td>1980</td>\n",
       "      <td>63.000</td>\n",
       "    </tr>\n",
       "    <tr>\n",
       "      <th>4986596</th>\n",
       "      <td>mehran_noun</td>\n",
       "      <td>university_noun</td>\n",
       "      <td>1990</td>\n",
       "      <td>55.000</td>\n",
       "    </tr>\n",
       "  </tbody>\n",
       "</table>\n",
       "</div>"
      ],
      "text/plain": [
       "            modifier             head  time  count\n",
       "4986595  mehran_noun  university_noun  1980 63.000\n",
       "4986596  mehran_noun  university_noun  1990 55.000"
      ]
     },
     "execution_count": 58,
     "metadata": {},
     "output_type": "execute_result"
    }
   ],
   "source": [
    "compounds.loc[(compounds['modifier']=='mehran_noun') & (compounds['head']=='university_noun') ]"
   ]
  },
  {
   "cell_type": "code",
   "execution_count": 36,
   "metadata": {},
   "outputs": [
    {
     "data": {
      "text/plain": [
       "479993"
      ]
     },
     "metadata": {},
     "output_type": "display_data"
    },
    {
     "data": {
      "text/plain": [
       "[('ancient_noun', 'wine_noun'),\n",
       " ('energy_noun', 'intensity_noun'),\n",
       " ('gardening_noun', 'tool_noun'),\n",
       " ('clas_noun', 'travel_noun'),\n",
       " ('bonu_noun', 'point_noun'),\n",
       " ('book_noun', 'london_noun'),\n",
       " ('monsieur_noun', 'peytel_noun'),\n",
       " ('automobile_noun', 'power_noun'),\n",
       " ('fujian_noun', 'investment_noun'),\n",
       " ('programmatic_noun', 'painting_noun')]"
      ]
     },
     "execution_count": 36,
     "metadata": {},
     "output_type": "execute_result"
    }
   ],
   "source": [
    "total_compounds=compounds.query('1800 <= time <= 1989').copy()\n",
    "total_compounds_list=list(zip(total_compounds['modifier'].tolist(),total_compounds['head'].tolist()))\n",
    "total_compounds_list=list(set(total_compounds_list))\n",
    "display(len(total_compounds_list))\n",
    "total_compounds_list[:10]"
   ]
  },
  {
   "cell_type": "code",
   "execution_count": 37,
   "metadata": {},
   "outputs": [],
   "source": [
    "compound_list=novel_compounds_1990_list+novel_compounds_2000_list+total_compounds_list"
   ]
  },
  {
   "cell_type": "code",
   "execution_count": 39,
   "metadata": {},
   "outputs": [
    {
     "data": {
      "text/plain": [
       "734602"
      ]
     },
     "execution_count": 39,
     "metadata": {},
     "output_type": "execute_result"
    }
   ],
   "source": [
    "len(compound_list)"
   ]
  },
  {
   "cell_type": "code",
   "execution_count": 38,
   "metadata": {},
   "outputs": [
    {
     "data": {
      "text/plain": [
       "702116"
      ]
     },
     "execution_count": 38,
     "metadata": {},
     "output_type": "execute_result"
    }
   ],
   "source": [
    "len(set(compound_list))"
   ]
  },
  {
   "cell_type": "markdown",
   "metadata": {},
   "source": [
    "## Creation of Negative Classes - CorruptHead and CorruptModifier\n"
   ]
  },
  {
   "cell_type": "code",
   "execution_count": 4,
   "metadata": {},
   "outputs": [],
   "source": [
    "def corrupt_dataset_creator(choice):\n",
    "    random.seed(choice)\n",
    "    corrupt_modifier_list=[]\n",
    "    corrupt_head_list=[]\n",
    "    for cur_num,(modifier,head) in enumerate(novel_compounds_list):\n",
    "    # CorruptHead , Modifier is same\n",
    "    #print(modifier,head)\n",
    "\n",
    "        while True:\n",
    "            temp_corrupt_head=random.choice(heads_list)\n",
    "            if (modifier,temp_corrupt_head) not in novel_compounds_list:\n",
    "                if (modifier,temp_corrupt_head) not in total_compounds_list:\n",
    "                    corrupt_head_list.append((modifier,temp_corrupt_head))\n",
    "                    break\n",
    "    # CorruptModifier , Head is same\n",
    "        while True:\n",
    "            temp_corrupt_modifier=random.choice(modifiers_list)\n",
    "            if (temp_corrupt_modifier,head) not in novel_compounds_list:\n",
    "                if (temp_corrupt_modifier,head) not in total_compounds_list:\n",
    "                    corrupt_modifier_list.append((temp_corrupt_modifier,head))\n",
    "                    break\n",
    "    return corrupt_head_list,corrupt_modifier_list"
   ]
  },
  {
   "cell_type": "code",
   "execution_count": 5,
   "metadata": {},
   "outputs": [],
   "source": [
    "pool = Pool(10)\n",
    "results=pool.map(corrupt_dataset_creator,seed_list)"
   ]
  },
  {
   "cell_type": "code",
   "execution_count": 6,
   "metadata": {},
   "outputs": [
    {
     "data": {
      "text/plain": [
       "10"
      ]
     },
     "execution_count": 6,
     "metadata": {},
     "output_type": "execute_result"
    }
   ],
   "source": [
    "len(results)"
   ]
  },
  {
   "cell_type": "code",
   "execution_count": 9,
   "metadata": {},
   "outputs": [
    {
     "name": "stdout",
     "output_type": "stream",
     "text": [
      "1\n",
      "2\n",
      "3\n",
      "4\n",
      "5\n",
      "6\n",
      "7\n",
      "8\n",
      "9\n",
      "10\n"
     ]
    }
   ],
   "source": [
    "for num,(corrupt_heads,corrupt_modifiers) in enumerate(results):\n",
    "    print(num+1)\n",
    "    pkl.dump( corrupt_heads, open( '/data/dharp/compounding/datasets/corrupt_heads_'+str(num+1)+'.pkl', \"wb\" ) )\n",
    "    \n",
    "    pkl.dump( corrupt_modifiers, open( '/data/dharp/compounding/datasets/corrupt_modifiers_'+str(num+1)+'.pkl', \"wb\" ) )"
   ]
  },
  {
   "cell_type": "code",
   "execution_count": 7,
   "metadata": {},
   "outputs": [
    {
     "data": {
      "text/plain": [
       "[('conference_n', 'peaceful_n'),\n",
       " ('constant_n', 'robinson_n'),\n",
       " ('attorney_n', 'supply_n'),\n",
       " ('extinction_n', 'peaceful_n'),\n",
       " ('reel_n', 'standard_n'),\n",
       " ('supreme_n', 'award_n'),\n",
       " ('switch_n', 'joint_n'),\n",
       " ('shoots_n', 'companion_n'),\n",
       " ('tuning_n', 'foundation_n'),\n",
       " ('familial_n', 'gentleman_n'),\n",
       " ('nothing_n', 'boat_n'),\n",
       " ('diasporic_n', 'pay_n'),\n",
       " ('scots_n', 'wife_n'),\n",
       " ('snap_n', 'othello_n'),\n",
       " ('snail_n', 'sage_n'),\n",
       " ('locality_n', 'robinson_n'),\n",
       " ('theme_n', 'evidence_n'),\n",
       " ('vermont_n', 'association_n'),\n",
       " ('advocacy_n', 'crane_n'),\n",
       " ('aol_n', 'chase_n')]"
      ]
     },
     "execution_count": 7,
     "metadata": {},
     "output_type": "execute_result"
    }
   ],
   "source": [
    "results[1][1][:20]"
   ]
  },
  {
   "cell_type": "code",
   "execution_count": 8,
   "metadata": {},
   "outputs": [
    {
     "data": {
      "text/plain": [
       "[('a_n', 'subtests_n'),\n",
       " ('a_n', 'ma_n'),\n",
       " ('a_n', 'upset_n'),\n",
       " ('india_n', 'denise_n'),\n",
       " ('india_n', 'governing_n'),\n",
       " ('india_n', 'knot_n'),\n",
       " ('india_n', 'managerial_n'),\n",
       " ('india_n', 'faith_n'),\n",
       " ('india_n', 'clause_n'),\n",
       " ('india_n', 'afield_n'),\n",
       " ('india_n', 'giles_n'),\n",
       " ('india_n', 'astrocyte_n'),\n",
       " ('india_n', 'eric_n'),\n",
       " ('india_n', 'reel_n'),\n",
       " ('india_n', 'bone_n'),\n",
       " ('the_n', 'will_n'),\n",
       " ('the_n', 'kiln_n'),\n",
       " ('the_n', 'palestine_n'),\n",
       " ('the_n', 'winner_n'),\n",
       " ('the_n', 'america_n')]"
      ]
     },
     "execution_count": 8,
     "metadata": {},
     "output_type": "execute_result"
    }
   ],
   "source": [
    "results[1][0][:20]"
   ]
  },
  {
   "cell_type": "code",
   "execution_count": null,
   "metadata": {},
   "outputs": [],
   "source": []
  }
 ],
 "metadata": {
  "kernelspec": {
   "display_name": "Python 3",
   "language": "python",
   "name": "python3"
  },
  "language_info": {
   "codemirror_mode": {
    "name": "ipython",
    "version": 3
   },
   "file_extension": ".py",
   "mimetype": "text/x-python",
   "name": "python",
   "nbconvert_exporter": "python",
   "pygments_lexer": "ipython3",
   "version": "3.6.8"
  }
 },
 "nbformat": 4,
 "nbformat_minor": 2
}
