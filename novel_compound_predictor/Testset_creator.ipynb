{
 "cells": [
  {
   "cell_type": "code",
   "execution_count": 1,
   "metadata": {},
   "outputs": [],
   "source": [
    "import numpy as np\n",
    "import pandas as pd\n",
    "import pickle as pkl\n",
    "pd.set_option('display.float_format', lambda x: '%.3f' % x)\n",
    "pd.options.mode.chained_assignment = None\n",
    "import random\n",
    "np.random.seed(1991)\n",
    "from multiprocessing import Pool\n",
    "seed_list=list(range(1,1000,100))\n",
    "import numba"
   ]
  },
  {
   "cell_type": "code",
   "execution_count": 2,
   "metadata": {},
   "outputs": [],
   "source": [
    "@numba.jit(nopython=True)\n",
    "def year_binner(year,val=10):\n",
    "    return year - year%val\n",
    "\n",
    "\n",
    "@numba.jit(nopython=True)\n",
    "def decremover(dc):\n",
    "\n",
    "    new_constituents=[]\n",
    "    for constituent,decades in dc.items():\n",
    "        if len(decades)==1:\n",
    "            if 2000 in decades:\n",
    "                new_constituents.append(constituent)\n",
    "    return(new_constituents)"
   ]
  },
  {
   "cell_type": "code",
   "execution_count": 3,
   "metadata": {},
   "outputs": [],
   "source": [
    "modifiers_list=pkl.load( open(\"modifier_list_reduced.pkl\",'rb'))\n",
    "heads_list=pkl.load( open(\"head_list_reduced.pkl\",'rb'))"
   ]
  },
  {
   "cell_type": "code",
   "execution_count": 4,
   "metadata": {},
   "outputs": [
    {
     "name": "stdout",
     "output_type": "stream",
     "text": [
      "<class 'pandas.core.frame.DataFrame'>\n",
      "Int64Index: 2713711 entries, 12 to 8892563\n",
      "Data columns (total 4 columns):\n",
      "modifier    object\n",
      "head        object\n",
      "time        int64\n",
      "count       float64\n",
      "dtypes: float64(1), int64(1), object(2)\n",
      "memory usage: 103.5+ MB\n"
     ]
    },
    {
     "data": {
      "text/html": [
       "<div>\n",
       "<style scoped>\n",
       "    .dataframe tbody tr th:only-of-type {\n",
       "        vertical-align: middle;\n",
       "    }\n",
       "\n",
       "    .dataframe tbody tr th {\n",
       "        vertical-align: top;\n",
       "    }\n",
       "\n",
       "    .dataframe thead th {\n",
       "        text-align: right;\n",
       "    }\n",
       "</style>\n",
       "<table border=\"1\" class=\"dataframe\">\n",
       "  <thead>\n",
       "    <tr style=\"text-align: right;\">\n",
       "      <th></th>\n",
       "      <th>modifier</th>\n",
       "      <th>head</th>\n",
       "      <th>time</th>\n",
       "      <th>count</th>\n",
       "    </tr>\n",
       "  </thead>\n",
       "  <tbody>\n",
       "    <tr>\n",
       "      <th>12</th>\n",
       "      <td>a_noun</td>\n",
       "      <td>addison_noun</td>\n",
       "      <td>1970</td>\n",
       "      <td>96.000</td>\n",
       "    </tr>\n",
       "    <tr>\n",
       "      <th>13</th>\n",
       "      <td>a_noun</td>\n",
       "      <td>addison_noun</td>\n",
       "      <td>1980</td>\n",
       "      <td>206.000</td>\n",
       "    </tr>\n",
       "    <tr>\n",
       "      <th>14</th>\n",
       "      <td>a_noun</td>\n",
       "      <td>addison_noun</td>\n",
       "      <td>1990</td>\n",
       "      <td>196.000</td>\n",
       "    </tr>\n",
       "    <tr>\n",
       "      <th>15</th>\n",
       "      <td>a_noun</td>\n",
       "      <td>addison_noun</td>\n",
       "      <td>2000</td>\n",
       "      <td>222.000</td>\n",
       "    </tr>\n",
       "    <tr>\n",
       "      <th>20</th>\n",
       "      <td>a_noun</td>\n",
       "      <td>anti_noun</td>\n",
       "      <td>1990</td>\n",
       "      <td>67.000</td>\n",
       "    </tr>\n",
       "  </tbody>\n",
       "</table>\n",
       "</div>"
      ],
      "text/plain": [
       "   modifier          head  time   count\n",
       "12   a_noun  addison_noun  1970  96.000\n",
       "13   a_noun  addison_noun  1980 206.000\n",
       "14   a_noun  addison_noun  1990 196.000\n",
       "15   a_noun  addison_noun  2000 222.000\n",
       "20   a_noun     anti_noun  1990  67.000"
      ]
     },
     "execution_count": 4,
     "metadata": {},
     "output_type": "execute_result"
    }
   ],
   "source": [
    "compounds=pd.read_pickle(\"/data/dharp/compounding/datasets/compounds.pkl\")\n",
    "compounds.reset_index(inplace=True)\n",
    "compounds.year=compounds.year.astype(\"int32\")\n",
    "compounds=compounds.query('1800 <= year <= 2010').copy()\n",
    "compounds['time']=year_binner(compounds['year'].values,10)\n",
    "#compounds = dd.from_pandas(compounds, npartitions=100)\n",
    "compounds=compounds.groupby(['modifier','head','time'])['count'].sum().to_frame()\n",
    "compounds.reset_index(inplace=True)\n",
    "compounds=compounds.loc[compounds.groupby(['modifier','head','time'])['count'].transform('sum').gt(50)]\n",
    "compounds=compounds.loc[compounds['modifier'].isin(modifiers_list) & compounds['head'].isin(heads_list)]\n",
    "compounds.info()\n",
    "compounds.head()"
   ]
  },
  {
   "cell_type": "code",
   "execution_count": 5,
   "metadata": {},
   "outputs": [
    {
     "data": {
      "text/plain": [
       "111551"
      ]
     },
     "metadata": {},
     "output_type": "display_data"
    },
    {
     "data": {
      "text/plain": [
       "[('a_noun', 'bachelor_noun'),\n",
       " ('a_noun', 'bug_noun'),\n",
       " ('a_noun', 'christian_noun'),\n",
       " ('a_noun', 'corner_noun'),\n",
       " ('a_noun', 'cultural_noun'),\n",
       " ('a_noun', 'dog_noun'),\n",
       " ('a_noun', 'family_noun'),\n",
       " ('a_noun', 'force_noun'),\n",
       " ('a_noun', 'go_noun'),\n",
       " ('a_noun', 'gospel_noun')]"
      ]
     },
     "execution_count": 5,
     "metadata": {},
     "output_type": "execute_result"
    }
   ],
   "source": [
    "novel_compounds=compounds.loc[compounds.groupby(['modifier','head'])['time'].transform('count').eq(1)]\n",
    "novel_compounds_2000=novel_compounds.loc[novel_compounds.time==2000]\n",
    "novel_compounds_2000_list=list(zip(novel_compounds_2000['modifier'].tolist(),novel_compounds_2000['head'].tolist()))\n",
    "display(len(novel_compounds_2000_list))\n",
    "novel_compounds_2000_list[:10]"
   ]
  },
  {
   "cell_type": "code",
   "execution_count": 6,
   "metadata": {},
   "outputs": [
    {
     "data": {
      "text/plain": [
       "42337"
      ]
     },
     "metadata": {},
     "output_type": "display_data"
    },
    {
     "data": {
      "text/plain": [
       "[('abstract_noun', 'unlimited_noun'),\n",
       " ('abstract_noun', 'voronoi_noun'),\n",
       " ('abu_noun', 'hilal_noun'),\n",
       " ('abu_noun', 'salabikh_noun'),\n",
       " ('abuja_noun', 'high_noun'),\n",
       " ('abulaziz_noun', 'city_noun'),\n",
       " ('abundance_noun', 'datum_noun'),\n",
       " ('abundance_noun', 'increase_noun'),\n",
       " ('abundance_noun', 'level_noun'),\n",
       " ('abundance_noun', 'result_noun'),\n",
       " ('abundance_noun', 'zone_noun'),\n",
       " ('abuse_noun', 'abstract_noun'),\n",
       " ('abuse_noun', 'antecedent_noun'),\n",
       " ('abuse_noun', 'aspect_noun'),\n",
       " ('abuse_noun', 'war_noun'),\n",
       " ('abyssinia_noun', 'baptist_noun'),\n",
       " ('ac_noun', 'approach_noun'),\n",
       " ('ac_noun', 'concept_noun'),\n",
       " ('ac_noun', 'current_noun'),\n",
       " ('ac_noun', 'published_noun')]"
      ]
     },
     "execution_count": 6,
     "metadata": {},
     "output_type": "execute_result"
    }
   ],
   "source": [
    "maske_list=novel_compounds.loc[novel_compounds.time==1990]\n",
    "maske_list=list(zip(maske_list['modifier'].tolist(),maske_list['head'].tolist()))\n",
    "display(len(maske_list))\n",
    "maske_list[110:130]"
   ]
  },
  {
   "cell_type": "code",
   "execution_count": 7,
   "metadata": {},
   "outputs": [
    {
     "data": {
      "text/plain": [
       "143058"
      ]
     },
     "metadata": {},
     "output_type": "display_data"
    },
    {
     "data": {
      "text/plain": [
       "[('distribution_noun', 'p_noun'),\n",
       " ('cardiac_noun', 'contractile_noun'),\n",
       " ('drawing_noun', 'unit_noun'),\n",
       " ('white_noun', 'mythology_noun'),\n",
       " ('joseph_noun', 'devlin_noun'),\n",
       " ('happy_noun', 'bottom_noun'),\n",
       " ('club_noun', 'good_noun'),\n",
       " ('sandford_noun', 'stile_noun'),\n",
       " ('fund_noun', 'b_noun'),\n",
       " ('ai_noun', 'tee_noun')]"
      ]
     },
     "execution_count": 7,
     "metadata": {},
     "output_type": "execute_result"
    }
   ],
   "source": [
    "novel_compounds_new=compounds.loc[compounds.groupby(['modifier','head'])['time'].transform('count').eq(2)]\n",
    "novel_compounds_1990=novel_compounds_new.loc[novel_compounds_new.time.isin([1990,2000])]\n",
    "novel_compounds_1990_list=list(zip(novel_compounds_1990['modifier'].tolist(),novel_compounds_1990['head'].tolist()))\n",
    "novel_compounds_1990_list=list(set(novel_compounds_1990_list))\n",
    "display(len(novel_compounds_1990_list))\n",
    "novel_compounds_1990_list[:10]"
   ]
  },
  {
   "cell_type": "code",
   "execution_count": 8,
   "metadata": {},
   "outputs": [
    {
     "data": {
      "text/plain": [
       "479993"
      ]
     },
     "metadata": {},
     "output_type": "display_data"
    },
    {
     "data": {
      "text/plain": [
       "[('rulemaking_noun', 'procedure_noun'),\n",
       " ('seller_noun', 'increase_noun'),\n",
       " ('civilian_noun', 'relief_noun'),\n",
       " ('cod_noun', 'colorado_noun'),\n",
       " ('richard_noun', 'loveland_noun'),\n",
       " ('sandford_noun', 'stile_noun'),\n",
       " ('justice_noun', 'joseph_noun'),\n",
       " ('advisory_noun', 'center_noun'),\n",
       " ('summer_noun', 'home_noun'),\n",
       " ('beeper_noun', 'surveillance_noun')]"
      ]
     },
     "execution_count": 8,
     "metadata": {},
     "output_type": "execute_result"
    }
   ],
   "source": [
    "total_compounds=compounds.query('1800 <= time <= 1989').copy()\n",
    "total_compounds_list=list(zip(total_compounds['modifier'].tolist(),total_compounds['head'].tolist()))\n",
    "total_compounds_list=list(set(total_compounds_list))\n",
    "display(len(total_compounds_list))\n",
    "total_compounds_list[:10]"
   ]
  },
  {
   "cell_type": "code",
   "execution_count": 9,
   "metadata": {},
   "outputs": [
    {
     "data": {
      "text/html": [
       "<div>\n",
       "<style scoped>\n",
       "    .dataframe tbody tr th:only-of-type {\n",
       "        vertical-align: middle;\n",
       "    }\n",
       "\n",
       "    .dataframe tbody tr th {\n",
       "        vertical-align: top;\n",
       "    }\n",
       "\n",
       "    .dataframe thead th {\n",
       "        text-align: right;\n",
       "    }\n",
       "</style>\n",
       "<table border=\"1\" class=\"dataframe\">\n",
       "  <thead>\n",
       "    <tr style=\"text-align: right;\">\n",
       "      <th></th>\n",
       "      <th>modifier</th>\n",
       "      <th>head</th>\n",
       "      <th>time</th>\n",
       "      <th>count</th>\n",
       "    </tr>\n",
       "  </thead>\n",
       "  <tbody>\n",
       "    <tr>\n",
       "      <th>531967</th>\n",
       "      <td>bank_noun</td>\n",
       "      <td>expert_noun</td>\n",
       "      <td>1900</td>\n",
       "      <td>75.000</td>\n",
       "    </tr>\n",
       "    <tr>\n",
       "      <th>531970</th>\n",
       "      <td>bank_noun</td>\n",
       "      <td>expert_noun</td>\n",
       "      <td>2000</td>\n",
       "      <td>190.000</td>\n",
       "    </tr>\n",
       "  </tbody>\n",
       "</table>\n",
       "</div>"
      ],
      "text/plain": [
       "         modifier         head  time   count\n",
       "531967  bank_noun  expert_noun  1900  75.000\n",
       "531970  bank_noun  expert_noun  2000 190.000"
      ]
     },
     "execution_count": 9,
     "metadata": {},
     "output_type": "execute_result"
    }
   ],
   "source": [
    "compounds.loc[(compounds['modifier']=='bank_noun') & (compounds['head']=='expert_noun') ]"
   ]
  },
  {
   "cell_type": "code",
   "execution_count": 10,
   "metadata": {},
   "outputs": [
    {
     "data": {
      "text/plain": [
       "447507"
      ]
     },
     "metadata": {},
     "output_type": "display_data"
    },
    {
     "data": {
      "text/plain": [
       "[('rulemaking_noun', 'procedure_noun'),\n",
       " ('seller_noun', 'increase_noun'),\n",
       " ('civilian_noun', 'relief_noun'),\n",
       " ('cod_noun', 'colorado_noun'),\n",
       " ('richard_noun', 'loveland_noun'),\n",
       " ('justice_noun', 'joseph_noun'),\n",
       " ('advisory_noun', 'center_noun'),\n",
       " ('summer_noun', 'home_noun'),\n",
       " ('beeper_noun', 'surveillance_noun'),\n",
       " ('h_noun', 'loop_noun')]"
      ]
     },
     "execution_count": 10,
     "metadata": {},
     "output_type": "execute_result"
    }
   ],
   "source": [
    "total_compounds_list=list(set(total_compounds_list).difference(novel_compounds_1990_list))\n",
    "display(len(total_compounds_list))\n",
    "total_compounds_list[:10]"
   ]
  },
  {
   "cell_type": "code",
   "execution_count": 11,
   "metadata": {},
   "outputs": [],
   "source": [
    "compound_list=novel_compounds_1990_list+novel_compounds_2000_list+total_compounds_list"
   ]
  },
  {
   "cell_type": "code",
   "execution_count": 12,
   "metadata": {},
   "outputs": [
    {
     "data": {
      "text/plain": [
       "0"
      ]
     },
     "execution_count": 12,
     "metadata": {},
     "output_type": "execute_result"
    }
   ],
   "source": [
    "len(set(total_compounds_list).intersection(novel_compounds_2000_list))"
   ]
  },
  {
   "cell_type": "code",
   "execution_count": 13,
   "metadata": {},
   "outputs": [
    {
     "data": {
      "text/plain": [
       "0"
      ]
     },
     "execution_count": 13,
     "metadata": {},
     "output_type": "execute_result"
    }
   ],
   "source": [
    "len(set(novel_compounds_2000_list).intersection(novel_compounds_1990_list))"
   ]
  },
  {
   "cell_type": "code",
   "execution_count": 14,
   "metadata": {},
   "outputs": [
    {
     "data": {
      "text/plain": [
       "0"
      ]
     },
     "execution_count": 14,
     "metadata": {},
     "output_type": "execute_result"
    }
   ],
   "source": [
    "len(set(total_compounds_list).intersection(novel_compounds_1990_list))"
   ]
  },
  {
   "cell_type": "code",
   "execution_count": 15,
   "metadata": {},
   "outputs": [],
   "source": [
    "combined_list=[x+' '+y for x,y in novel_compounds_2000_list]"
   ]
  },
  {
   "cell_type": "code",
   "execution_count": 16,
   "metadata": {},
   "outputs": [],
   "source": [
    "pkl.dump(total_compounds_list,open('compound_trainset.pkl','wb'))"
   ]
  },
  {
   "cell_type": "code",
   "execution_count": 17,
   "metadata": {},
   "outputs": [],
   "source": [
    "pkl.dump(novel_compounds_1990_list,open('compound_validset.pkl','wb'))"
   ]
  },
  {
   "cell_type": "code",
   "execution_count": 18,
   "metadata": {},
   "outputs": [],
   "source": [
    "pkl.dump(novel_compounds_2000_list,open('compound_testset.pkl','wb'))"
   ]
  },
  {
   "cell_type": "code",
   "execution_count": 19,
   "metadata": {},
   "outputs": [],
   "source": [
    "combined_list=np.random.choice(combined_list,20_000,replace=False)"
   ]
  },
  {
   "cell_type": "code",
   "execution_count": 20,
   "metadata": {},
   "outputs": [],
   "source": [
    "returned_list=[x.split() for x in combined_list]"
   ]
  },
  {
   "cell_type": "markdown",
   "metadata": {},
   "source": [
    "## Creation of Negative Classes - CorruptHead and CorruptModifier\n"
   ]
  },
  {
   "cell_type": "code",
   "execution_count": 26,
   "metadata": {},
   "outputs": [],
   "source": [
    "def corrupt_dataset_creator(choice):\n",
    "    random.seed(choice)\n",
    "    corrupt_modifier_list=[]\n",
    "    corrupt_head_list=[]\n",
    "    for cur_num,(modifier,head) in enumerate(returned_list):\n",
    "    # CorruptHead , Modifier is same\n",
    "        #print(cur_num)\n",
    "\n",
    "        while True:\n",
    "            temp_corrupt_head=random.choice(heads_list)\n",
    "            if (modifier,temp_corrupt_head) not in compound_list:\n",
    "                corrupt_head_list.append((modifier,temp_corrupt_head))\n",
    "                break\n",
    "    # CorruptModifier , Head is same\n",
    "        while True:\n",
    "            temp_corrupt_modifier=random.choice(modifiers_list)\n",
    "            if (temp_corrupt_modifier,head) not in compound_list:\n",
    "                corrupt_modifier_list.append((temp_corrupt_modifier,head))\n",
    "                break\n",
    "    return corrupt_head_list,corrupt_modifier_list"
   ]
  },
  {
   "cell_type": "code",
   "execution_count": null,
   "metadata": {},
   "outputs": [],
   "source": [
    "pool = Pool(10)\n",
    "test_results=pool.map(corrupt_dataset_creator,seed_list)"
   ]
  },
  {
   "cell_type": "code",
   "execution_count": 9,
   "metadata": {},
   "outputs": [
    {
     "name": "stdout",
     "output_type": "stream",
     "text": [
      "1\n",
      "2\n",
      "3\n",
      "4\n",
      "5\n",
      "6\n",
      "7\n",
      "8\n",
      "9\n",
      "10\n"
     ]
    }
   ],
   "source": [
    "for num,(corrupt_heads,corrupt_modifiers) in enumerate(results):\n",
    "    print(num+1)\n",
    "    pkl.dump( corrupt_heads, open( '/data/dharp/compounding/datasets/tescorrupt_heads_'+str(num+1)+'.pkl', \"wb\" ) )\n",
    "    \n",
    "    pkl.dump( corrupt_modifiers, open( '/data/dharp/compounding/datasets/corrupt_modifiers_'+str(num+1)+'.pkl', \"wb\" ) )"
   ]
  },
  {
   "cell_type": "code",
   "execution_count": 7,
   "metadata": {},
   "outputs": [
    {
     "data": {
      "text/plain": [
       "[('conference_n', 'peaceful_n'),\n",
       " ('constant_n', 'robinson_n'),\n",
       " ('attorney_n', 'supply_n'),\n",
       " ('extinction_n', 'peaceful_n'),\n",
       " ('reel_n', 'standard_n'),\n",
       " ('supreme_n', 'award_n'),\n",
       " ('switch_n', 'joint_n'),\n",
       " ('shoots_n', 'companion_n'),\n",
       " ('tuning_n', 'foundation_n'),\n",
       " ('familial_n', 'gentleman_n'),\n",
       " ('nothing_n', 'boat_n'),\n",
       " ('diasporic_n', 'pay_n'),\n",
       " ('scots_n', 'wife_n'),\n",
       " ('snap_n', 'othello_n'),\n",
       " ('snail_n', 'sage_n'),\n",
       " ('locality_n', 'robinson_n'),\n",
       " ('theme_n', 'evidence_n'),\n",
       " ('vermont_n', 'association_n'),\n",
       " ('advocacy_n', 'crane_n'),\n",
       " ('aol_n', 'chase_n')]"
      ]
     },
     "execution_count": 7,
     "metadata": {},
     "output_type": "execute_result"
    }
   ],
   "source": [
    "results[1][1][:20]"
   ]
  },
  {
   "cell_type": "code",
   "execution_count": 8,
   "metadata": {},
   "outputs": [
    {
     "data": {
      "text/plain": [
       "[('a_n', 'subtests_n'),\n",
       " ('a_n', 'ma_n'),\n",
       " ('a_n', 'upset_n'),\n",
       " ('india_n', 'denise_n'),\n",
       " ('india_n', 'governing_n'),\n",
       " ('india_n', 'knot_n'),\n",
       " ('india_n', 'managerial_n'),\n",
       " ('india_n', 'faith_n'),\n",
       " ('india_n', 'clause_n'),\n",
       " ('india_n', 'afield_n'),\n",
       " ('india_n', 'giles_n'),\n",
       " ('india_n', 'astrocyte_n'),\n",
       " ('india_n', 'eric_n'),\n",
       " ('india_n', 'reel_n'),\n",
       " ('india_n', 'bone_n'),\n",
       " ('the_n', 'will_n'),\n",
       " ('the_n', 'kiln_n'),\n",
       " ('the_n', 'palestine_n'),\n",
       " ('the_n', 'winner_n'),\n",
       " ('the_n', 'america_n')]"
      ]
     },
     "execution_count": 8,
     "metadata": {},
     "output_type": "execute_result"
    }
   ],
   "source": [
    "results[1][0][:20]"
   ]
  },
  {
   "cell_type": "code",
   "execution_count": null,
   "metadata": {},
   "outputs": [],
   "source": []
  }
 ],
 "metadata": {
  "kernelspec": {
   "display_name": "Python 3",
   "language": "python",
   "name": "python3"
  },
  "language_info": {
   "codemirror_mode": {
    "name": "ipython",
    "version": 3
   },
   "file_extension": ".py",
   "mimetype": "text/x-python",
   "name": "python",
   "nbconvert_exporter": "python",
   "pygments_lexer": "ipython3",
   "version": "3.6.8"
  }
 },
 "nbformat": 4,
 "nbformat_minor": 2
}
