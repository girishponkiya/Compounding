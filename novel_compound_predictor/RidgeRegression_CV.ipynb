{
 "cells": [
  {
   "cell_type": "markdown",
   "metadata": {},
   "source": [
    "# Ridge Regression on ContextAware and DecadeAware system"
   ]
  },
  {
   "cell_type": "code",
   "execution_count": 2,
   "metadata": {},
   "outputs": [],
   "source": [
    "library(tidyverse)\n",
    "library(caret)\n",
    "library(glmnet)\n",
    "library(dplyr)\n",
    "#library(psych) \n",
    "set.seed(1991)"
   ]
  },
  {
   "cell_type": "code",
   "execution_count": 6,
   "metadata": {},
   "outputs": [],
   "source": [
    "CompoundAware_DecadeAware<-read.csv(\"/data/dharp/compounding/datasets/trial.csv\",sep = '\\t')"
   ]
  },
  {
   "cell_type": "code",
   "execution_count": 7,
   "metadata": {},
   "outputs": [],
   "source": [
    "Y <- CompoundAware_DecadeAware %>% select(compound_mean) %>% scale(center = TRUE, scale = FALSE) %>% as.double()\n",
    "X <- CompoundAware_DecadeAware %>% select(-c(1:8)) %>% as.matrix()"
   ]
  },
  {
   "cell_type": "markdown",
   "metadata": {},
   "source": [
    "We use Ridge Regression to find a linear relationship between the features (PPMI, Local Mutual Information, Log Likelihood and the three similarity features) and compound_mean from the Reddy dataset for the 80 compounds."
   ]
  },
  {
   "cell_type": "code",
   "execution_count": 8,
   "metadata": {},
   "outputs": [],
   "source": [
    "lambda <- 10^seq(-3, 3, length = 100)\n"
   ]
  },
  {
   "cell_type": "code",
   "execution_count": 9,
   "metadata": {},
   "outputs": [
    {
     "name": "stderr",
     "output_type": "stream",
     "text": [
      "Warning message in nominalTrainWorkflow(x = x, y = y, wts = weights, info = trainInfo, :\n",
      "\"There were missing values in resampled performance measures.\"Warning message in nominalTrainWorkflow(x = x, y = y, wts = weights, info = trainInfo, :\n",
      "\"There were missing values in resampled performance measures.\"Warning message in nominalTrainWorkflow(x = x, y = y, wts = weights, info = trainInfo, :\n",
      "\"There were missing values in resampled performance measures.\""
     ]
    }
   ],
   "source": [
    "ridge <- train(\n",
    "  compound_mean ~. -modifier -head -modifier_mean -modifier_std -head_mean -head_std -compound_std, \n",
    "    data = CompoundAware_DecadeAware, method = \"glmnet\",\n",
    "  trControl = trainControl(\"cv\", number = 10,search=\"grid\"),\n",
    "  tuneGrid = expand.grid(alpha = 0, lambda = lambda)\n",
    "  )\n",
    "\n",
    "elastic <- train(\n",
    "  compound_mean ~. -modifier -head -modifier_mean -modifier_std -head_mean -head_std -compound_std,\n",
    "    data = CompoundAware_DecadeAware, method = \"glmnet\",\n",
    "  trControl = trainControl(\"cv\", number = 10,search=\"grid\"),\n",
    "  tuneLength = 10\n",
    "  )\n",
    "\n",
    "lasso <- train(\n",
    "  compound_mean ~. -modifier -head -modifier_mean -modifier_std -head_mean -head_std -compound_std,\n",
    "    data = CompoundAware_DecadeAware, method = \"glmnet\",\n",
    "  trControl = trainControl(\"cv\", number = 10,search=\"grid\"),\n",
    "  tuneGrid = expand.grid(alpha = 1, lambda = lambda)\n",
    "  )\n",
    "# Model coefficients\n",
    "#coef(ridge$finalModel, ridge$bestTune$lambda)\n",
    "# Make predictions\n",
    "#predictions <- ridge %>% predict(test.data)\n",
    "# Model prediction performance\n",
    "#data.frame(\n",
    "#  RMSE = RMSE(predictions, test.data$medv),\n",
    "#  Rsquare = R2(predictions, test.data$medv)\n",
    "#)"
   ]
  },
  {
   "cell_type": "code",
   "execution_count": 11,
   "metadata": {},
   "outputs": [
    {
     "data": {
      "text/html": [
       "<table>\n",
       "<thead><tr><th scope=col>TrainRMSE</th><th scope=col>TrainRsquared</th><th scope=col>TrainMAE</th><th scope=col>method</th></tr></thead>\n",
       "<tbody>\n",
       "\t<tr><td>1.186714 </td><td>0.4302433</td><td>1.019241 </td><td>glmnet   </td></tr>\n",
       "</tbody>\n",
       "</table>\n"
      ],
      "text/latex": [
       "\\begin{tabular}{r|llll}\n",
       " TrainRMSE & TrainRsquared & TrainMAE & method\\\\\n",
       "\\hline\n",
       "\t 1.186714  & 0.4302433 & 1.019241  & glmnet   \\\\\n",
       "\\end{tabular}\n"
      ],
      "text/markdown": [
       "\n",
       "TrainRMSE | TrainRsquared | TrainMAE | method | \n",
       "|---|\n",
       "| 1.186714  | 0.4302433 | 1.019241  | glmnet    | \n",
       "\n",
       "\n"
      ],
      "text/plain": [
       "  TrainRMSE TrainRsquared TrainMAE method\n",
       "1 1.186714  0.4302433     1.019241 glmnet"
      ]
     },
     "metadata": {},
     "output_type": "display_data"
    }
   ],
   "source": [
    "getTrainPerf(elastic)"
   ]
  },
  {
   "cell_type": "code",
   "execution_count": 10,
   "metadata": {},
   "outputs": [
    {
     "data": {
      "text/plain": [
       "\n",
       "Call:\n",
       "summary.resamples(object = ., metric = \"RMSE\")\n",
       "\n",
       "Models: ridge, lasso, elastic \n",
       "Number of resamples: 10 \n",
       "\n",
       "RMSE \n",
       "             Min.  1st Qu.   Median     Mean  3rd Qu.     Max. NA's\n",
       "ridge   0.8891465 1.120576 1.227338 1.225745 1.343688 1.570850    0\n",
       "lasso   0.9992967 1.088216 1.201105 1.215335 1.346212 1.448980    0\n",
       "elastic 0.8409485 1.071267 1.100541 1.186714 1.336025 1.565506    0\n"
      ]
     },
     "metadata": {},
     "output_type": "display_data"
    }
   ],
   "source": [
    "models <- list(ridge = ridge, lasso = lasso, elastic = elastic)\n",
    "resamples(models) %>% summary( metric = \"RMSE\")"
   ]
  },
  {
   "cell_type": "code",
   "execution_count": 12,
   "metadata": {},
   "outputs": [],
   "source": [
    "dev.new(width = 550, height = 900, unit = \"px\")"
   ]
  },
  {
   "cell_type": "markdown",
   "metadata": {},
   "source": [
    "Variable Importance is used to look at the importance of a feature in predicting compound_mean. We show the top 20 features out of the possible 126 (21 decades * 6 features)."
   ]
  },
  {
   "cell_type": "markdown",
   "metadata": {},
   "source": [
    "When we look at the features irrespective of the decade,\n",
    "\n",
    "log ratio is the most important and occupies 11/20 positions with local mutual information in the other 9. \n",
    "\n",
    "We do not see any of the similarity features being as important as the information theory based features. \n",
    "\n",
    "(This is good because previous studies only looked at similarity and frequencies, but never information theory features)"
   ]
  },
  {
   "cell_type": "markdown",
   "metadata": {},
   "source": [
    "Given below is the distribution of the variables that were deemed important based on the decade"
   ]
  },
  {
   "cell_type": "markdown",
   "metadata": {},
   "source": [
    "1800 : 1\n",
    "\n",
    "1830 : 2\n",
    "\n",
    "1840 : 2\n",
    "\n",
    "1850 : 2\n",
    "\n",
    "1860 : 2\n",
    "\n",
    "1870 : 2\n",
    "\n",
    "1880 : 2\n",
    "\n",
    "1890 : 2\n",
    "\n",
    "1900 : 2\n",
    "\n",
    "1910 : 2\n",
    "\n",
    "1920 : 1"
   ]
  },
  {
   "cell_type": "markdown",
   "metadata": {},
   "source": [
    "( We need to figure out how and if the decade information makes any sense)"
   ]
  },
  {
   "cell_type": "markdown",
   "metadata": {},
   "source": [
    "When we compare this model with the non temporal model, we get better R squared values, so we can say that temporal information is helping us predict the compositionality score."
   ]
  },
  {
   "cell_type": "code",
   "execution_count": 13,
   "metadata": {},
   "outputs": [
    {
     "data": {
      "text/plain": [
       "glmnet variable importance\n",
       "\n",
       "  only 20 most important variables shown (out of 120)\n",
       "\n",
       "                           Overall\n",
       "X1810_sim_with_head       100.0000\n",
       "X1930_sim_with_head        33.8189\n",
       "X1930_sim_with_modifier    28.8823\n",
       "X1980_local_mi             22.0961\n",
       "X1980_ppmi                 20.0171\n",
       "X1990_local_mi             16.6332\n",
       "X1990_ppmi                 15.8334\n",
       "X1920_sim_with_modifier    14.4443\n",
       "X1980_log_ratio            13.1343\n",
       "X1870_log_ratio            11.6380\n",
       "X1810_log_ratio            10.7671\n",
       "X1940_sim_with_modifier     8.4858\n",
       "X1990_log_ratio             8.3887\n",
       "X1930_local_mi              7.6360\n",
       "X1930_ppmi                  6.1996\n",
       "X1980_sim_bw_constituents   3.1620\n",
       "X1880_local_mi              3.0653\n",
       "X1880_ppmi                  2.4100\n",
       "X1950_sim_with_modifier     1.4416\n",
       "X1810_local_mi              0.6743"
      ]
     },
     "metadata": {},
     "output_type": "display_data"
    }
   ],
   "source": [
    "varImp(elastic)"
   ]
  },
  {
   "cell_type": "code",
   "execution_count": 14,
   "metadata": {},
   "outputs": [
    {
     "data": {},
     "metadata": {},
     "output_type": "display_data"
    },
    {
     "data": {
      "image/png": "[encoded data removed]",
      "text/plain": [
       "plot without title"
      ]
     },
     "metadata": {},
     "output_type": "display_data",
     "source": "R display func"
    }
   ],
   "source": [
    "plot(varImp(elastic),top=10)"
   ]
  },
  {
   "cell_type": "code",
   "execution_count": null,
   "metadata": {},
   "outputs": [],
   "source": []
  }
 ],
 "metadata": {
  "kernelspec": {
   "display_name": "R",
   "language": "R",
   "name": "ir"
  },
  "language_info": {
   "codemirror_mode": "r",
   "file_extension": ".r",
   "mimetype": "text/x-r-source",
   "name": "R",
   "pygments_lexer": "r",
   "version": "3.5.1"
  }
 },
 "nbformat": 4,
 "nbformat_minor": 2
}
